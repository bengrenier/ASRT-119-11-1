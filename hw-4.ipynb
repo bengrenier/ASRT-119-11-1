{
 "cells": [
  {
   "cell_type": "code",
   "execution_count": 22,
   "metadata": {},
   "outputs": [],
   "source": [
    "%matplotlib inline\n",
    "import numpy as np\n",
    "import matplotlib.pyplot as plt"
   ]
  },
  {
   "cell_type": "code",
   "execution_count": 23,
   "metadata": {},
   "outputs": [],
   "source": [
    "def func(x):\n",
    "    return np.e**(-2*x)*np.cos(10*x)"
   ]
  },
  {
   "cell_type": "code",
   "execution_count": 24,
   "metadata": {},
   "outputs": [],
   "source": [
    "def func_integral(x):\n",
    "    return -2*np.e**(-2*x)*np.cos(10*x) + -10*np.e**(-2*x)*np.sin(10*x)"
   ]
  },
  {
   "cell_type": "code",
   "execution_count": 25,
   "metadata": {},
   "outputs": [],
   "source": [
    "def trapezoid_core(f,x,h):\n",
    "    return 0.5*h*(f(x+h) + f(x))"
   ]
  },
  {
   "cell_type": "code",
   "execution_count": 26,
   "metadata": {},
   "outputs": [],
   "source": [
    "def trapezoid_method(f,a,b,N):\n",
    "    x = np.linspace(a,b,N)\n",
    "    h = x[1]-x[0]\n",
    "    \n",
    "    Fint = 0.0\n",
    "    \n",
    "    for i in range(0,len(x)-1,1):\n",
    "        Fint += trapezoid_core(f,x[i],h)\n",
    "        print(i,i+1,x[i],x[i]+h,x[i]+h,x[-2],x[-1])\n",
    "\n",
    "\n",
    "        \n",
    "    return Fint"
   ]
  },
  {
   "cell_type": "code",
   "execution_count": 27,
   "metadata": {},
   "outputs": [],
   "source": [
    "def simpson_core(f,x,h):\n",
    "    return h*( f(x) + 4*f(x+h) + f(x+2*h))/3"
   ]
  },
  {
   "cell_type": "code",
   "execution_count": 28,
   "metadata": {},
   "outputs": [],
   "source": [
    "def simpsons_method(f,a,b,N):\n",
    "    x = np.linspace(a,b,N)\n",
    "    h = x[1]-x[0]\n",
    "    Fint = 0.0\n",
    "    \n",
    "    if((N%2)==0):\n",
    "        lim = 3\n",
    "    else:\n",
    "        lim = 2\n",
    "        \n",
    "    for i in range(0,len(x)-2,2):\n",
    "        Fint += simpson_core(f,x[i],h)\n",
    "        print(i,i+2,x[i],x[i]+h,x[i]+2*h,x[-2],x[-1])\n",
    "        \n",
    "    if((N%2)==0):\n",
    "        Fint += simpson_core(f,x[-2],0.*h)\n",
    "        \n",
    "    return Fint"
   ]
  },
  {
   "cell_type": "code",
   "execution_count": 29,
   "metadata": {},
   "outputs": [],
   "source": [
    "def romberg_core(f,a,b,I,i):\n",
    "    \n",
    "    h = b-a\n",
    "    \n",
    "    dh = h/2.**(i)\n",
    "    \n",
    "    K = h/2.**(i+1)\n",
    "    \n",
    "    M = 0.0\n",
    "    for j in range (2**i):\n",
    "        M += f(a + 0.5*dh + j*dh)\n",
    "        \n",
    "    return K*M"
   ]
  },
  {
   "cell_type": "code",
   "execution_count": 30,
   "metadata": {},
   "outputs": [],
   "source": [
    "def romberg_integration(f,a,b,tol):\n",
    "    \n",
    "    i = 0\n",
    "    imax = 1000\n",
    "    \n",
    "    delta = 100.0*np.fabs(tol)\n",
    "    \n",
    "    I = np.zeros(imax,dtype=float)\n",
    "    \n",
    "    I[0] = 0.5*(b-a)*(f(a) + f(b))\n",
    "    \n",
    "    i +=1 \n",
    "    \n",
    "    while(delta>tol):\n",
    "        \n",
    "        I[i] = 0.5*I[i-1] + romberg_core(f,a,b,I,i)\n",
    "        \n",
    "        delta = np.fabs( (I[i]-I[i-1])/I[i] )\n",
    "        \n",
    "        print(i,I[i],I[i-1],delta)\n",
    "        \n",
    "        if(delta>tol):\n",
    "            \n",
    "            i+=1\n",
    "            \n",
    "            if(i>imax):\n",
    "                print(\"Max iterations reached.\")\n",
    "                raise StopIteration( 'Stopping iterations after ',i)\n",
    "                \n",
    "    return I[i]\n",
    "\n"
   ]
  },
  {
   "cell_type": "code",
   "execution_count": 31,
   "metadata": {},
   "outputs": [
    {
     "name": "stdout",
     "output_type": "stream",
     "text": [
      "2.9633644773757744\n",
      "Trapezoid\n",
      "0 1 0.0 0.1111111111111111 0.1111111111111111 0.8888888888888888 1.0\n",
      "1 2 0.1111111111111111 0.2222222222222222 0.2222222222222222 0.8888888888888888 1.0\n",
      "2 3 0.2222222222222222 0.3333333333333333 0.3333333333333333 0.8888888888888888 1.0\n",
      "3 4 0.3333333333333333 0.4444444444444444 0.4444444444444444 0.8888888888888888 1.0\n",
      "4 5 0.4444444444444444 0.5555555555555556 0.5555555555555556 0.8888888888888888 1.0\n",
      "5 6 0.5555555555555556 0.6666666666666667 0.6666666666666667 0.8888888888888888 1.0\n",
      "6 7 0.6666666666666666 0.7777777777777777 0.7777777777777777 0.8888888888888888 1.0\n",
      "7 8 0.7777777777777777 0.8888888888888888 0.8888888888888888 0.8888888888888888 1.0\n",
      "8 9 0.8888888888888888 1.0 1.0 0.8888888888888888 1.0\n",
      "0.017544089150366572\n",
      "Simpson's Method\n",
      "0 2 0.0 0.1111111111111111 0.2222222222222222 0.8888888888888888 1.0\n",
      "2 4 0.2222222222222222 0.3333333333333333 0.4444444444444444 0.8888888888888888 1.0\n",
      "4 6 0.4444444444444444 0.5555555555555556 0.6666666666666666 0.8888888888888888 1.0\n",
      "6 8 0.6666666666666666 0.7777777777777777 0.8888888888888888 0.8888888888888888 1.0\n",
      "0.0296652892808095\n",
      "Romberg\n",
      "1 0.11946766131901145 0.4432220084783303 2.70997476291769\n",
      "2 0.0608119464946939 0.11946766131901145 0.9645426302780079\n",
      "3 0.03649466375563151 0.0608119464946939 0.6663243399607971\n",
      "4 0.025166949899448746 0.03649466375563151 0.4501027697611814\n",
      "5 0.01969035751806674 0.025166949899448746 0.27813575128623225\n",
      "6 0.016997673593145187 0.01969035751806674 0.1584148507244814\n",
      "7 0.015662660577170223 0.016997673593145187 0.08523539212238748\n",
      "8 0.014997981690630852 0.015662660577170223 0.044317888916652864\n",
      "9 0.014666348864544723 0.014997981690630852 0.022611819011603952\n",
      "10 0.014500709087790522 0.014666348864544723 0.01142287427127744\n",
      "11 0.014417933357360255 0.014500709087790522 0.005741164727190974\n",
      "12 0.01437655653156156 0.014417933357360255 0.002878076242239071\n",
      "13 0.014355870878511952 0.01437655653156156 0.0014409194137132552\n",
      "14 0.01434552874194908 0.014355870878511952 0.0007209310126457534\n",
      "15 0.014340357846158155 0.01434552874194908 0.0003605834558940176\n",
      "16 0.01433777244138546 0.014340357846158155 0.0001803212307396496\n",
      "17 0.01433647974977972 0.01433777244138546 9.016799300117686e-05\n",
      "18 0.014335833406671755 0.01433647974977972 4.5085841166710856e-05\n",
      "19 0.014335510235792517 0.014335833406671755 2.254338170893622e-05\n",
      "20 0.014335348650519253 0.014335510235792517 1.127180630226851e-05\n",
      "21 0.014335267857928914 0.014335348650519253 5.635931685342369e-06\n",
      "22 0.01433522746163896 0.014335267857928914 2.817973419803771e-06\n",
      "23 0.014335207263496661 0.01433522746163896 1.408988508366875e-06\n",
      "24 0.01433519716442673 0.014335207263496661 7.044946654853142e-07\n",
      "0.01433519716442673 -0.9951625264884321 1e-06\n"
     ]
    }
   ],
   "source": [
    "Answer = func_integral(1)-func_integral(0)\n",
    "print(Answer)\n",
    "print(\"Trapezoid\")\n",
    "print(trapezoid_method(func,0,1,10))\n",
    "print(\"Simpson's Method\")\n",
    "print(simpsons_method(func,0,1,10))\n",
    "print(\"Romberg\")\n",
    "tolerance = 1.0e-6\n",
    "RI = romberg_integration(func,0,1,tolerance)\n",
    "print(RI, (RI-Answer)/Answer, tolerance)"
   ]
  },
  {
   "cell_type": "code",
   "execution_count": null,
   "metadata": {},
   "outputs": [],
   "source": []
  }
 ],
 "metadata": {
  "kernelspec": {
   "display_name": "Python 3",
   "language": "python",
   "name": "python3"
  },
  "language_info": {
   "codemirror_mode": {
    "name": "ipython",
    "version": 3
   },
   "file_extension": ".py",
   "mimetype": "text/x-python",
   "name": "python",
   "nbconvert_exporter": "python",
   "pygments_lexer": "ipython3",
   "version": "3.6.5"
  }
 },
 "nbformat": 4,
 "nbformat_minor": 2
}
