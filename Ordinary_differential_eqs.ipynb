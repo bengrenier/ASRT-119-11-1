{
 "cells": [
  {
   "cell_type": "code",
   "execution_count": 26,
   "metadata": {},
   "outputs": [],
   "source": [
    "%matplotlib inline\n",
    "import numpy as np\n",
    "import matplotlib.pyplot as plt"
   ]
  },
  {
   "cell_type": "markdown",
   "metadata": {},
   "source": [
    "# Define a function"
   ]
  },
  {
   "cell_type": "code",
   "execution_count": 39,
   "metadata": {},
   "outputs": [],
   "source": [
    "def dfdx(x,f):\n",
    "    return x**2 + x"
   ]
  },
  {
   "cell_type": "markdown",
   "metadata": {},
   "source": [
    "# and its integral"
   ]
  },
  {
   "cell_type": "code",
   "execution_count": 40,
   "metadata": {},
   "outputs": [],
   "source": [
    "def f_int(x,C):\n",
    "    return (x**3)/3. + 0.5*x**2 + C"
   ]
  },
  {
   "cell_type": "markdown",
   "metadata": {},
   "source": [
    "# Define the Second order RK method"
   ]
  },
  {
   "cell_type": "code",
   "execution_count": 41,
   "metadata": {},
   "outputs": [],
   "source": [
    "def rk2_core(x_i,f_i,h,g):\n",
    "    \n",
    "    x_ipoh = x_i + 0.5*h\n",
    "    f_ipoh = f_i + 0.5*h*g(x_i,f_i)\n",
    "    \n",
    "    f_ipo = f_i + h*g(x_ipoh, f_ipoh)\n",
    "    \n",
    "    return f_ipo"
   ]
  },
  {
   "cell_type": "code",
   "execution_count": 42,
   "metadata": {},
   "outputs": [],
   "source": [
    "def rk2(dfdx,a,b,f_a,N):\n",
    "    \n",
    "    x = np.linspace(a,b,N)\n",
    "    \n",
    "    h = x[1]-x[0]\n",
    "    \n",
    "    f = np.zeros(N,dtype=float)\n",
    "    \n",
    "    f[0] = f_a\n",
    "    \n",
    "    for i in range(1,N):\n",
    "        f[i] = rk2_core(x[i-1],f[i-1],h,dfdx)\n",
    "    return x,f"
   ]
  },
  {
   "cell_type": "code",
   "execution_count": 43,
   "metadata": {},
   "outputs": [],
   "source": [
    "def rk4_core(x_i,f_i,h,g):\n",
    "    \n",
    "    x_ipoh = x_i + 0.5*h\n",
    "    x_ipo = x_i + h\n",
    "    \n",
    "    k_1 = h*g(x_i,f_i)\n",
    "    k_2 = h*g(x_ipoh, f_i + 0.5*k_1)\n",
    "    k_3 = h*g(x_ipoh, f_i + 0.5*k_2)\n",
    "    k_4 = h*g(x_ipo, f_i + k_3)\n",
    "    \n",
    "    f_ipo = f_i + (k_1 + 2*k_2 +2*k_3 + k_4)/6.\n",
    "    \n",
    "    return f_ipo"
   ]
  },
  {
   "cell_type": "code",
   "execution_count": 44,
   "metadata": {},
   "outputs": [],
   "source": [
    "def rk4(dfdx,a,b,f_a,N):\n",
    "    \n",
    "    x = np.linspace(a,b,N)\n",
    "    \n",
    "    h = x[1]-x[0]\n",
    "    \n",
    "    f = np.zeros(N,dtype=float)\n",
    "    \n",
    "    f[0] = f_a\n",
    "    \n",
    "    for i in range(1,N):\n",
    "        f[i] = rk4_core(x[i-1],f[i-1],h,dfdx)\n",
    "    return x,f"
   ]
  },
  {
   "cell_type": "code",
   "execution_count": 56,
   "metadata": {},
   "outputs": [
    {
     "data": {
      "text/plain": [
       "Text(0, 0.5, 'f(x)')"
      ]
     },
     "execution_count": 56,
     "metadata": {},
     "output_type": "execute_result"
    },
    {
     "data": {
      "image/png": "[encoded data removed]",
      "text/plain": [
       "<Figure size 432x288 with 1 Axes>"
      ]
     },
     "metadata": {
      "needs_background": "light"
     },
     "output_type": "display_data"
    }
   ],
   "source": [
    "a = 0.0\n",
    "b = 1.0\n",
    "f_a =  0.0\n",
    "N = 10\n",
    "x_2, f_2 = rk2(dfdx,a,b,f_a,N)\n",
    "x_4, f_4 = rk4(dfdx,a,b,f_a,N)\n",
    "x = x_2.copy()\n",
    "plt.plot(x_2,f_2,label='RK2')\n",
    "plt.plot(x_4,f_4,label='RK4')\n",
    "plt.plot(x,f_int(x,f_a),'o',label='Analytic')\n",
    "plt.legend(frameon=False)\n",
    "plt.xlabel('x')\n",
    "plt.ylabel('f(x)')"
   ]
  },
  {
   "cell_type": "code",
   "execution_count": 63,
   "metadata": {},
   "outputs": [
    {
     "data": {
      "text/plain": [
       "Text(0, 0.5, 'f(x)')"
      ]
     },
     "execution_count": 63,
     "metadata": {},
     "output_type": "execute_result"
    },
    {
     "data": {
      "image/png": "[encoded data removed]",
      "text/plain": [
       "<Figure size 432x288 with 1 Axes>"
      ]
     },
     "metadata": {
      "needs_background": "light"
     },
     "output_type": "display_data"
    }
   ],
   "source": [
    "a = 0.0\n",
    "b = 1.0\n",
    "f_a =  1.0\n",
    "N = 100\n",
    "x_2, f_2 = rk2(dfdx,a,b,f_a,N)\n",
    "x_4, f_4 = rk4(dfdx,a,b,f_a,N)\n",
    "x = x_2.copy()\n",
    "f_analytic = f_int(x,f_a)\n",
    "\n",
    "error_2 = (f_2 - f_analytic)/f_analytic\n",
    "error_4 = (f_4 - f_analytic)/f_analytic\n",
    "\n",
    "\n",
    "plt.plot(x_2,error_2,label='RK2')\n",
    "plt.plot(x_4,error_4,label='RK4')\n",
    "plt.plot(x,f_int(x,f_a),'o',label='Analytic')\n",
    "plt.legend(frameon=False)\n",
    "plt.ylim(-1.0e-5,1.0e-6)\n",
    "plt.xlim(0,1)\n",
    "plt.xlabel('x')\n",
    "plt.ylabel('f(x)')"
   ]
  },
  {
   "cell_type": "code",
   "execution_count": 61,
   "metadata": {},
   "outputs": [
    {
     "name": "stdout",
     "output_type": "stream",
     "text": [
      "[ 0.00000000e+00  0.00000000e+00 -2.21998694e-16  0.00000000e+00\n",
      "  0.00000000e+00  0.00000000e+00  0.00000000e+00  0.00000000e+00\n",
      " -2.21283200e-16  0.00000000e+00  0.00000000e+00  0.00000000e+00\n",
      "  0.00000000e+00  0.00000000e+00  2.19641367e-16  0.00000000e+00\n",
      "  2.18878092e-16  2.18455127e-16  2.18004452e-16  2.17525980e-16\n",
      "  2.17019651e-16  2.16485433e-16  2.15923322e-16  4.30666684e-16\n",
      "  4.29431091e-16  4.28140025e-16  4.26793703e-16  4.25392399e-16\n",
      "  4.23936443e-16  4.22426221e-16  2.10431087e-16  4.19244800e-16\n",
      "  4.17574648e-16  4.15852324e-16  4.14078482e-16  4.12253831e-16\n",
      "  2.05189564e-16  4.08455181e-16  2.03241420e-16  2.02231504e-16\n",
      "  4.02396624e-16  4.00284677e-16  3.98128190e-16  1.97964115e-16\n",
      "  1.96842947e-16  3.91402321e-16  3.89078676e-16  3.86716157e-16\n",
      "  3.84315991e-16  3.81879427e-16  3.79407742e-16  3.76902230e-16\n",
      "  3.74364206e-16  3.71795003e-16  1.84597982e-16  1.83284224e-16\n",
      "  1.81956910e-16  3.61233457e-16  3.58528737e-16  3.55801042e-16\n",
      "  3.53051757e-16  3.50282262e-16  3.47493937e-16  3.44688155e-16\n",
      "  3.41866283e-16  3.39029676e-16  3.36179682e-16  3.33317634e-16\n",
      "  1.65222426e-16  1.63781320e-16  1.62336141e-16  1.60887524e-16\n",
      "  3.18872184e-16  1.57982459e-16  1.56527227e-16  0.00000000e+00\n",
      "  1.53614315e-16  1.52157779e-16  1.50701930e-16  2.98494616e-16\n",
      "  1.47794438e-16  2.92687664e-16  1.44895987e-16  2.86902769e-16\n",
      "  2.84020987e-16  2.81147535e-16  2.78283288e-16  4.13143642e-16\n",
      "  4.08878656e-16  2.69754104e-16  4.00402276e-16  3.96193108e-16\n",
      "  3.92004697e-16  3.87838046e-16  3.83694112e-16  3.79573810e-16\n",
      "  3.75478011e-16  2.47605030e-16  3.67363198e-16  4.84460956e-16]\n"
     ]
    }
   ],
   "source": [
    "print(error_4)"
   ]
  },
  {
   "cell_type": "code",
   "execution_count": null,
   "metadata": {},
   "outputs": [],
   "source": []
  }
 ],
 "metadata": {
  "kernelspec": {
   "display_name": "Python 3",
   "language": "python",
   "name": "python3"
  },
  "language_info": {
   "codemirror_mode": {
    "name": "ipython",
    "version": 3
   },
   "file_extension": ".py",
   "mimetype": "text/x-python",
   "name": "python",
   "nbconvert_exporter": "python",
   "pygments_lexer": "ipython3",
   "version": "3.6.5"
  }
 },
 "nbformat": 4,
 "nbformat_minor": 2
}
